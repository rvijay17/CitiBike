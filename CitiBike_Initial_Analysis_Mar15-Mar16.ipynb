{
 "cells": [
  {
   "cell_type": "code",
   "execution_count": 6,
   "metadata": {
    "collapsed": true
   },
   "outputs": [],
   "source": [
    "import pandas as pd\n",
    "import numpy as np\n",
    "import feather\n",
    "from sklearn import linear_model\n",
    "from sklearn import cross_validation\n",
    "from sklearn import preprocessing\n",
    "from sklearn import metrics\n",
    "import matplotlib.pyplot as plt\n",
    "import seaborn as sns\n",
    "%matplotlib inline"
   ]
  },
  {
   "cell_type": "markdown",
   "metadata": {},
   "source": [
    "Importing trip data for March 2016 and Weather data from Weather Underground. \n",
    "\n",
    "The source data is read in a separate Python class. It is manipulated as a DataFrame and finally exported into Feather format. The exported file is imported in this notebook. To read more about Feather, read https://blog.rstudio.org/2016/03/29/feather/\n",
    "\n",
    "The benefit of doing this were:\n",
    "- The ETL part of the analysis is in a separate file (CitiBike_ETL.py)\n",
    "- The Feather file can read in R also\n",
    "- During analysis, this notebook will be run multiple times and it is efficient to just import the DataFrame"
   ]
  },
  {
   "cell_type": "code",
   "execution_count": 3,
   "metadata": {
    "collapsed": false
   },
   "outputs": [
    {
     "name": "stdout",
     "output_type": "stream",
     "text": [
      "Index([u'bikeid', u'birth year', u'date', u'dtstartdatehour',\n",
      "       u'dtstopdatehour', u'end station id', u'end station latitude',\n",
      "       u'end station longitude', u'end station name', u'female', u'male',\n",
      "       u'start station id', u'start station latitude',\n",
      "       u'start station longitude', u'start station name', u'starttime',\n",
      "       u'stoptime', u'tripduration', u'usertype'],\n",
      "      dtype='object')\n",
      "9650860\n"
     ]
    }
   ],
   "source": [
    "bikedata = feather.read_dataframe('../../Data/CitiBike_Data/bikedata.feather')\n",
    "print bikedata.columns\n",
    "print len(bikedata)"
   ]
  },
  {
   "cell_type": "markdown",
   "metadata": {},
   "source": [
    "## Initial Data Analysis\n",
    "\n",
    "#### How many trips start and end at the same station?\n",
    "\n",
    "We can see that only 1.4% of the bikes start and end at the same station (Apr 2015 - Mar 2016)"
   ]
  },
  {
   "cell_type": "code",
   "execution_count": 29,
   "metadata": {
    "collapsed": false
   },
   "outputs": [
    {
     "data": {
      "text/plain": [
       "1.4080195961810658"
      ]
     },
     "execution_count": 29,
     "metadata": {},
     "output_type": "execute_result"
    }
   ],
   "source": [
    "float(len(bikedata[bikedata['start station id'] == bikedata['end station id']]))*100/len(bikedata)"
   ]
  },
  {
   "cell_type": "markdown",
   "metadata": {},
   "source": [
    "#### Which Start and End stations are the busiest?"
   ]
  },
  {
   "cell_type": "code",
   "execution_count": 31,
   "metadata": {
    "collapsed": false
   },
   "outputs": [
    {
     "data": {
      "text/plain": [
       "start station id\n",
       "519    113690\n",
       "521     97786\n",
       "293     95857\n",
       "435     90841\n",
       "497     83749\n",
       "Name: bikeid, dtype: int64"
      ]
     },
     "execution_count": 31,
     "metadata": {},
     "output_type": "execute_result"
    }
   ],
   "source": [
    "bikedata.groupby(by=['start station id'])['bikeid'].count().sort_values(ascending=False).head()"
   ]
  },
  {
   "cell_type": "code",
   "execution_count": 3,
   "metadata": {
    "collapsed": false
   },
   "outputs": [
    {
     "data": {
      "text/plain": [
       "start station name\n",
       "Pershing Square North                113690\n",
       "8 Ave & W 31 St                       97786\n",
       "Lafayette St & E 8 St                 95857\n",
       "W 21 St & 6 Ave                       90841\n",
       "E 17 St & Broadway                    83749\n",
       "Broadway & E 14 St                    72774\n",
       "Broadway & E 22 St                    68279\n",
       "Greenwich Ave & 8 Ave                 68137\n",
       "Cleveland Pl & Spring St              65974\n",
       "West St & Chambers St                 65093\n",
       "W 41 St & 8 Ave                       64402\n",
       "Carmine St & 6 Ave                    63484\n",
       "8 Ave & W 33 St                       62834\n",
       "Lexington Ave & E 24 St               60883\n",
       "W 20 St & 11 Ave                      59075\n",
       "Lafayette St & Jersey St              58985\n",
       "Barrow St & Hudson St                 58890\n",
       "Christopher St & Greenwich St         58031\n",
       "Vesey Pl & River Terrace              57560\n",
       "University Pl & E 14 St               57406\n",
       "W 42 St & 8 Ave                       57111\n",
       "W 31 St & 7 Ave                       56946\n",
       "Broadway & W 24 St                    55855\n",
       "W 18 St & 6 Ave                       55432\n",
       "W 24 St & 7 Ave                       54810\n",
       "W 38 St & 8 Ave                       54552\n",
       "1 Ave & E 15 St                       53061\n",
       "E 7 St & Avenue A                     50986\n",
       "Pershing Square South                 50718\n",
       "E 14 St & Avenue B                    50652\n",
       "                                      ...  \n",
       "31 St & Thomson Ave                     952\n",
       "47 Ave & 31 St                          938\n",
       "E 58 St & 1 Ave                         896\n",
       "Kingston Ave & Herkimer St              852\n",
       "Division Ave & Marcy Ave                830\n",
       "Marcy Ave & MacDonough St               827\n",
       "Soissons Landing                        805\n",
       "Nostrand Ave & Myrtle Ave               783\n",
       "Union Ave & Wallabout St                779\n",
       "Yankee Ferry Terminal                   757\n",
       "Lewis Ave & Decatur St                  726\n",
       "Leonard St & Meeker Ave                 716\n",
       "Pulaski St & Marcus Garvey Blvd         670\n",
       "Park Ave & Marcus Garvey Blvd           648\n",
       "21 St & 43 Ave                          642\n",
       "Throop Ave & Myrtle Ave                 623\n",
       "Albany Ave & Fulton St                  612\n",
       "Marcy Ave & Lafayette Ave               605\n",
       "Riverside Dr & W 72 St                  529\n",
       "Railroad Ave & Kay Ave                  519\n",
       "21 St & 41 Ave                          454\n",
       "Monroe St & Tompkins Ave                438\n",
       "Center Blvd & Borden Ave                427\n",
       "Bedford Ave & S 9th St                  394\n",
       "Mobile 01                               332\n",
       "21 St & Queens Plaza North              177\n",
       "E.T. Bike-In Movie Valet Station        124\n",
       "Montague St & Clinton St                115\n",
       "Nassau Ave & Newell St                   61\n",
       "NYCBS Depot - SSP                        10\n",
       "Name: bikeid, dtype: int64"
      ]
     },
     "execution_count": 3,
     "metadata": {},
     "output_type": "execute_result"
    }
   ],
   "source": [
    "bikedata.groupby(by='start station name').bikeid.count().sort_values(ascending=False)"
   ]
  },
  {
   "cell_type": "code",
   "execution_count": 7,
   "metadata": {
    "collapsed": false
   },
   "outputs": [
    {
     "ename": "IOError",
     "evalue": "[Errno 63] File name too long: '/Users/Divya/seaborn-data/         dtstartdatehour  bikeid        date  male_to_female_ratio  fog  rain  \\\\\\n0    2015-04-01 02:00:00       2  2015-04-01              1.000000    0     0   \\n1    2015-04-01 05:00:00       2  2015-04-01              1.000000    0     0   \\n2    2015-04-01 06:00:00      12  2015-04-01              1.000000    0     0   \\n3    2015-04-01 07:00:00      26  2015-04-01              1.000000    0     0   \\n4    2015-04-01 08:00:00      21  2015-04-01              0.952381    0     0   \\n5    2015-04-01 09:00:00      16  2015-04-01              0.937500    0     0   \\n6    2015-04-01 10:00:00       5  2015-04-01              1.000000    0     0   \\n7    2015-04-01 11:00:00       6  2015-04-01              1.000000    0     0   \\n8    2015-04-01 12:00:00       3  2015-04-01              0.666667    0     0   \\n9    2015-04-01 13:00:00       2  2015-04-01              0.500000    0     0   \\n10   2015-04-01 14:00:00       2  2015-04-01              1.000000    0     0   \\n11   2015-04-01 15:00:00       4  2015-04-01              1.000000    0     0   \\n12   2015-04-01 16:00:00      12  2015-04-01              0.916667    0     0   \\n13   2015-04-01 17:00:00      35  2015-04-01              1.000000    0     0   \\n14   2015-04-01 18:00:00      42  2015-04-01              0.833333    0     0   \\n15   2015-04-01 19:00:00      29  2015-04-01              0.793103    0     0   \\n16   2015-04-01 20:00:00       9  2015-04-01              1.000000    0     0   \\n17   2015-04-01 21:00:00       4  2015-04-01              0.500000    0     0   \\n18   2015-04-02 01:00:00       1  2015-04-02              1.000000    0     0   \\n19   2015-04-02 05:00:00       3  2015-04-02              1.000000    0     0   \\n20   2015-04-02 06:00:00       9  2015-04-02              1.000000    0     0   \\n21   2015-04-02 07:00:00      15  2015-04-02              0.933333    0     0   \\n22   2015-04-02 08:00:00      16  2015-04-02              0.875000    0     0   \\n23   2015-04-02 09:00:00      11  2015-04-02              0.818182    0     0   \\n24   2015-04-02 15:00:00       7  2015-04-02              0.857143    0     0   \\n25   2015-04-02 16:00:00      15  2015-04-02              0.866667    0     0   \\n26   2015-04-02 17:00:00      33  2015-04-02              0.939394    0     0   \\n27   2015-04-02 18:00:00      43  2015-04-02              0.860465    0     0   \\n28   2015-04-02 19:00:00      27  2015-04-02              0.814815    0     0   \\n29   2015-04-02 20:00:00      10  2015-04-02              1.000000    0     0   \\n...                  ...     ...         ...                   ...  ...   ...   \\n7027 2016-03-30 13:00:00      13  2016-03-30              0.769231    0     0   \\n7028 2016-03-30 14:00:00      14  2016-03-30              0.928571    0     0   \\n7029 2016-03-30 15:00:00      12  2016-03-30              0.916667    0     0   \\n7030 2016-03-30 16:00:00      29  2016-03-30              0.896552    0     0   \\n7031 2016-03-30 17:00:00     101  2016-03-30              0.871287    0     0   \\n7032 2016-03-30 18:00:00     114  2016-03-30              0.885965    0     0   \\n7033 2016-03-30 19:00:00      33  2016-03-30              0.969697    0     0   \\n7034 2016-03-30 20:00:00      11  2016-03-30              0.818182    0     0   \\n7035 2016-03-30 21:00:00       7  2016-03-30              0.714286    0     0   \\n7036 2016-03-30 22:00:00       3  2016-03-30              0.666667    0     0   \\n7037 2016-03-30 23:00:00       3  2016-03-30              1.000000    0     0   \\n7038 2016-03-31 05:00:00       1  2016-03-31              1.000000    0     0   \\n7039 2016-03-31 06:00:00      13  2016-03-31              1.000000    0     0   \\n7040 2016-03-31 07:00:00      40  2016-03-31              1.000000    0     0   \\n7041 2016-03-31 08:00:00      42  2016-03-31              0.904762    0     0   \\n7042 2016-03-31 09:00:00      48  2016-03-31              0.937500    0     0   \\n7043 2016-03-31 10:00:00      16  2016-03-31              0.812500    0     0   \\n7044 2016-03-31 11:00:00      11  2016-03-31              1.000000    0     0   \\n7045 2016-03-31 12:00:00       7  2016-03-31              0.857143    0     0   \\n7046 2016-03-31 13:00:00       6  2016-03-31              1.000000    0     0   \\n7047 2016-03-31 14:00:00      13  2016-03-31              0.923077    0     0   \\n7048 2016-03-31 15:00:00      17  2016-03-31              0.882353    0     0   \\n7049 2016-03-31 16:00:00      31  2016-03-31              0.838710    0     0   \\n7050 2016-03-31 17:00:00     121  2016-03-31              0.900826    0     0   \\n7051 2016-03-31 18:00:00      86  2016-03-31              0.848837    0     0   \\n7052 2016-03-31 19:00:00      37  2016-03-31              0.972973    0     0   \\n7053 2016-03-31 20:00:00      13  2016-03-31              0.846154    0     0   \\n7054 2016-03-31 21:00:00       5  2016-03-31              0.400000    0     0   \\n7055 2016-03-31 22:00:00       6  2016-03-31              1.000000    0     0   \\n7056 2016-03-31 23:00:00       5  2016-03-31              0.800000    0     0   \\n\\n      snow  hail  thunder  tornado  meantempm  maxtempm  meanvisi  \\\\\\n0        0     0        0        0          6        11        10   \\n1        0     0        0        0          6        11        10   \\n2        0     0        0        0          6        11        10   \\n3        0     0        0        0          6        11        10   \\n4        0     0        0        0          6        11        10   \\n5        0     0        0        0          6        11        10   \\n6        0     0        0        0          6        11        10   \\n7        0     0        0        0          6        11        10   \\n8        0     0        0        0          6        11        10   \\n9        0     0        0        0          6        11        10   \\n10       0     0        0        0          6        11        10   \\n11       0     0        0        0          6        11        10   \\n12       0     0        0        0          6        11        10   \\n13       0     0        0        0          6        11        10   \\n14       0     0        0        0          6        11        10   \\n15       0     0        0        0          6        11        10   \\n16       0     0        0        0          6        11        10   \\n17       0     0        0        0          6        11        10   \\n18       0     0        0        0         12        19        10   \\n19       0     0        0        0         12        19        10   \\n20       0     0        0        0         12        19        10   \\n21       0     0        0        0         12        19        10   \\n22       0     0        0        0         12        19        10   \\n23       0     0        0        0         12        19        10   \\n24       0     0        0        0         12        19        10   \\n25       0     0        0        0         12        19        10   \\n26       0     0        0        0         12        19        10   \\n27       0     0        0        0         12        19        10   \\n28       0     0        0        0         12        19        10   \\n29       0     0        0        0         12        19        10   \\n...    ...   ...      ...      ...        ...       ...       ...   \\n7027     0     0        0        0          8        13        10   \\n7028     0     0        0        0          8        13        10   \\n7029     0     0        0        0          8        13        10   \\n7030     0     0        0        0          8        13        10   \\n7031     0     0        0        0          8        13        10   \\n7032     0     0        0        0          8        13        10   \\n7033     0     0        0        0          8        13        10   \\n7034     0     0        0        0          8        13        10   \\n7035     0     0        0        0          8        13        10   \\n7036     0     0        0        0          8        13        10   \\n7037     0     0        0        0          8        13        10   \\n7038     0     0        0        0         16        23        10   \\n7039     0     0        0        0         16        23        10   \\n7040     0     0        0        0         16        23        10   \\n7041     0     0        0        0         16        23        10   \\n7042     0     0        0        0         16        23        10   \\n7043     0     0        0        0         16        23        10   \\n7044     0     0        0        0         16        23        10   \\n7045     0     0        0        0         16        23        10   \\n7046     0     0        0        0         16        23        10   \\n7047     0     0        0        0         16        23        10   \\n7048     0     0        0        0         16        23        10   \\n7049     0     0        0        0         16        23        10   \\n7050     0     0        0        0         16        23        10   \\n7051     0     0        0        0         16        23        10   \\n7052     0     0        0        0         16        23        10   \\n7053     0     0        0        0         16        23        10   \\n7054     0     0        0        0         16        23        10   \\n7055     0     0        0        0         16        23        10   \\n7056     0     0        0        0         16        23        10   \\n\\n      maxhumidity  precipm  \\n0              82        0  \\n1              82        0  \\n2              82        0  \\n3              82        0  \\n4              82        0  \\n5              82        0  \\n6              82        0  \\n7              82        0  \\n8              82        0  \\n9              82        0  \\n10             82        0  \\n11             82        0  \\n12             82        0  \\n13             82        0  \\n14             82        0  \\n15             82        0  \\n16             82        0  \\n17             82        0  \\n18             41        0  \\n19             41        0  \\n20             41        0  \\n21             41        0  \\n22             41        0  \\n23             41        0  \\n24             41        0  \\n25             41        0  \\n26             41        0  \\n27             41        0  \\n28             41        0  \\n29             41        0  \\n...           ...      ...  \\n7027           54        0  \\n7028           54        0  \\n7029           54        0  \\n7030           54        0  \\n7031           54        0  \\n7032           54        0  \\n7033           54        0  \\n7034           54        0  \\n7035           54        0  \\n7036           54        0  \\n7037           54        0  \\n7038           73        0  \\n7039           73        0  \\n7040           73        0  \\n7041           73        0  \\n7042           73        0  \\n7043           73        0  \\n7044           73        0  \\n7045           73        0  \\n7046           73        0  \\n7047           73        0  \\n7048           73        0  \\n7049           73        0  \\n7050           73        0  \\n7051           73        0  \\n7052           73        0  \\n7053           73        0  \\n7054           73        0  \\n7055           73        0  \\n7056           73        0  \\n\\n[7057 rows x 15 columns].csv'",
     "output_type": "error",
     "traceback": [
      "\u001b[0;31m---------------------------------------------------------------------------\u001b[0m",
      "\u001b[0;31mIOError\u001b[0m                                   Traceback (most recent call last)",
      "\u001b[0;32m<ipython-input-7-ac417f0daffe>\u001b[0m in \u001b[0;36m<module>\u001b[0;34m()\u001b[0m\n\u001b[0;32m----> 1\u001b[0;31m \u001b[0mtips\u001b[0m \u001b[0;34m=\u001b[0m \u001b[0msns\u001b[0m\u001b[0;34m.\u001b[0m\u001b[0mload_dataset\u001b[0m\u001b[0;34m(\u001b[0m\u001b[0mfinal_df\u001b[0m\u001b[0;34m)\u001b[0m\u001b[0;34m\u001b[0m\u001b[0m\n\u001b[0m\u001b[1;32m      2\u001b[0m \u001b[0;34m\u001b[0m\u001b[0m\n\u001b[1;32m      3\u001b[0m \u001b[0;31m# Draw a nested boxplot to show bills by day and sex\u001b[0m\u001b[0;34m\u001b[0m\u001b[0;34m\u001b[0m\u001b[0m\n\u001b[1;32m      4\u001b[0m \u001b[0msns\u001b[0m\u001b[0;34m.\u001b[0m\u001b[0mboxplot\u001b[0m\u001b[0;34m(\u001b[0m\u001b[0mx\u001b[0m\u001b[0;34m=\u001b[0m\u001b[0;34m\"startdatehour\"\u001b[0m\u001b[0;34m,\u001b[0m \u001b[0my\u001b[0m\u001b[0;34m=\u001b[0m\u001b[0;34m\"bikeid\"\u001b[0m\u001b[0;34m,\u001b[0m \u001b[0mhue\u001b[0m\u001b[0;34m=\u001b[0m\u001b[0;34m\"usertype\"\u001b[0m\u001b[0;34m,\u001b[0m \u001b[0mdata\u001b[0m\u001b[0;34m=\u001b[0m\u001b[0mtips\u001b[0m\u001b[0;34m,\u001b[0m \u001b[0mpalette\u001b[0m\u001b[0;34m=\u001b[0m\u001b[0;34m\"PRGn\"\u001b[0m\u001b[0;34m)\u001b[0m\u001b[0;34m\u001b[0m\u001b[0m\n\u001b[1;32m      5\u001b[0m \u001b[0msns\u001b[0m\u001b[0;34m.\u001b[0m\u001b[0mdespine\u001b[0m\u001b[0;34m(\u001b[0m\u001b[0moffset\u001b[0m\u001b[0;34m=\u001b[0m\u001b[0;36m10\u001b[0m\u001b[0;34m,\u001b[0m \u001b[0mtrim\u001b[0m\u001b[0;34m=\u001b[0m\u001b[0mTrue\u001b[0m\u001b[0;34m)\u001b[0m\u001b[0;34m\u001b[0m\u001b[0m\n",
      "\u001b[0;32m/Users/Divya/anaconda/lib/python2.7/site-packages/seaborn/utils.pyc\u001b[0m in \u001b[0;36mload_dataset\u001b[0;34m(name, cache, data_home, **kws)\u001b[0m\n\u001b[1;32m    418\u001b[0m                                   os.path.basename(full_path))\n\u001b[1;32m    419\u001b[0m         \u001b[0;32mif\u001b[0m \u001b[0;32mnot\u001b[0m \u001b[0mos\u001b[0m\u001b[0;34m.\u001b[0m\u001b[0mpath\u001b[0m\u001b[0;34m.\u001b[0m\u001b[0mexists\u001b[0m\u001b[0;34m(\u001b[0m\u001b[0mcache_path\u001b[0m\u001b[0;34m)\u001b[0m\u001b[0;34m:\u001b[0m\u001b[0;34m\u001b[0m\u001b[0m\n\u001b[0;32m--> 420\u001b[0;31m             \u001b[0murlretrieve\u001b[0m\u001b[0;34m(\u001b[0m\u001b[0mfull_path\u001b[0m\u001b[0;34m,\u001b[0m \u001b[0mcache_path\u001b[0m\u001b[0;34m)\u001b[0m\u001b[0;34m\u001b[0m\u001b[0m\n\u001b[0m\u001b[1;32m    421\u001b[0m         \u001b[0mfull_path\u001b[0m \u001b[0;34m=\u001b[0m \u001b[0mcache_path\u001b[0m\u001b[0;34m\u001b[0m\u001b[0m\n\u001b[1;32m    422\u001b[0m \u001b[0;34m\u001b[0m\u001b[0m\n",
      "\u001b[0;32m/Users/Divya/anaconda/lib/python2.7/urllib.pyc\u001b[0m in \u001b[0;36murlretrieve\u001b[0;34m(url, filename, reporthook, data, context)\u001b[0m\n\u001b[1;32m     96\u001b[0m     \u001b[0;32melse\u001b[0m\u001b[0;34m:\u001b[0m\u001b[0;34m\u001b[0m\u001b[0m\n\u001b[1;32m     97\u001b[0m         \u001b[0mopener\u001b[0m \u001b[0;34m=\u001b[0m \u001b[0m_urlopener\u001b[0m\u001b[0;34m\u001b[0m\u001b[0m\n\u001b[0;32m---> 98\u001b[0;31m     \u001b[0;32mreturn\u001b[0m \u001b[0mopener\u001b[0m\u001b[0;34m.\u001b[0m\u001b[0mretrieve\u001b[0m\u001b[0;34m(\u001b[0m\u001b[0murl\u001b[0m\u001b[0;34m,\u001b[0m \u001b[0mfilename\u001b[0m\u001b[0;34m,\u001b[0m \u001b[0mreporthook\u001b[0m\u001b[0;34m,\u001b[0m \u001b[0mdata\u001b[0m\u001b[0;34m)\u001b[0m\u001b[0;34m\u001b[0m\u001b[0m\n\u001b[0m\u001b[1;32m     99\u001b[0m \u001b[0;32mdef\u001b[0m \u001b[0murlcleanup\u001b[0m\u001b[0;34m(\u001b[0m\u001b[0;34m)\u001b[0m\u001b[0;34m:\u001b[0m\u001b[0;34m\u001b[0m\u001b[0m\n\u001b[1;32m    100\u001b[0m     \u001b[0;32mif\u001b[0m \u001b[0m_urlopener\u001b[0m\u001b[0;34m:\u001b[0m\u001b[0;34m\u001b[0m\u001b[0m\n",
      "\u001b[0;32m/Users/Divya/anaconda/lib/python2.7/urllib.pyc\u001b[0m in \u001b[0;36mretrieve\u001b[0;34m(self, url, filename, reporthook, data)\u001b[0m\n\u001b[1;32m    247\u001b[0m             \u001b[0mheaders\u001b[0m \u001b[0;34m=\u001b[0m \u001b[0mfp\u001b[0m\u001b[0;34m.\u001b[0m\u001b[0minfo\u001b[0m\u001b[0;34m(\u001b[0m\u001b[0;34m)\u001b[0m\u001b[0;34m\u001b[0m\u001b[0m\n\u001b[1;32m    248\u001b[0m             \u001b[0;32mif\u001b[0m \u001b[0mfilename\u001b[0m\u001b[0;34m:\u001b[0m\u001b[0;34m\u001b[0m\u001b[0m\n\u001b[0;32m--> 249\u001b[0;31m                 \u001b[0mtfp\u001b[0m \u001b[0;34m=\u001b[0m \u001b[0mopen\u001b[0m\u001b[0;34m(\u001b[0m\u001b[0mfilename\u001b[0m\u001b[0;34m,\u001b[0m \u001b[0;34m'wb'\u001b[0m\u001b[0;34m)\u001b[0m\u001b[0;34m\u001b[0m\u001b[0m\n\u001b[0m\u001b[1;32m    250\u001b[0m             \u001b[0;32melse\u001b[0m\u001b[0;34m:\u001b[0m\u001b[0;34m\u001b[0m\u001b[0m\n\u001b[1;32m    251\u001b[0m                 \u001b[0;32mimport\u001b[0m \u001b[0mtempfile\u001b[0m\u001b[0;34m\u001b[0m\u001b[0m\n",
      "\u001b[0;31mIOError\u001b[0m: [Errno 63] File name too long: '/Users/Divya/seaborn-data/         dtstartdatehour  bikeid        date  male_to_female_ratio  fog  rain  \\\\\\n0    2015-04-01 02:00:00       2  2015-04-01              1.000000    0     0   \\n1    2015-04-01 05:00:00       2  2015-04-01              1.000000    0     0   \\n2    2015-04-01 06:00:00      12  2015-04-01              1.000000    0     0   \\n3    2015-04-01 07:00:00      26  2015-04-01              1.000000    0     0   \\n4    2015-04-01 08:00:00      21  2015-04-01              0.952381    0     0   \\n5    2015-04-01 09:00:00      16  2015-04-01              0.937500    0     0   \\n6    2015-04-01 10:00:00       5  2015-04-01              1.000000    0     0   \\n7    2015-04-01 11:00:00       6  2015-04-01              1.000000    0     0   \\n8    2015-04-01 12:00:00       3  2015-04-01              0.666667    0     0   \\n9    2015-04-01 13:00:00       2  2015-04-01              0.500000    0     0   \\n10   2015-04-01 14:00:00       2  2015-04-01              1.000000    0     0   \\n11   2015-04-01 15:00:00       4  2015-04-01              1.000000    0     0   \\n12   2015-04-01 16:00:00      12  2015-04-01              0.916667    0     0   \\n13   2015-04-01 17:00:00      35  2015-04-01              1.000000    0     0   \\n14   2015-04-01 18:00:00      42  2015-04-01              0.833333    0     0   \\n15   2015-04-01 19:00:00      29  2015-04-01              0.793103    0     0   \\n16   2015-04-01 20:00:00       9  2015-04-01              1.000000    0     0   \\n17   2015-04-01 21:00:00       4  2015-04-01              0.500000    0     0   \\n18   2015-04-02 01:00:00       1  2015-04-02              1.000000    0     0   \\n19   2015-04-02 05:00:00       3  2015-04-02              1.000000    0     0   \\n20   2015-04-02 06:00:00       9  2015-04-02              1.000000    0     0   \\n21   2015-04-02 07:00:00      15  2015-04-02              0.933333    0     0   \\n22   2015-04-02 08:00:00      16  2015-04-02              0.875000    0     0   \\n23   2015-04-02 09:00:00      11  2015-04-02              0.818182    0     0   \\n24   2015-04-02 15:00:00       7  2015-04-02              0.857143    0     0   \\n25   2015-04-02 16:00:00      15  2015-04-02              0.866667    0     0   \\n26   2015-04-02 17:00:00      33  2015-04-02              0.939394    0     0   \\n27   2015-04-02 18:00:00      43  2015-04-02              0.860465    0     0   \\n28   2015-04-02 19:00:00      27  2015-04-02              0.814815    0     0   \\n29   2015-04-02 20:00:00      10  2015-04-02              1.000000    0     0   \\n...                  ...     ...         ...                   ...  ...   ...   \\n7027 2016-03-30 13:00:00      13  2016-03-30              0.769231    0     0   \\n7028 2016-03-30 14:00:00      14  2016-03-30              0.928571    0     0   \\n7029 2016-03-30 15:00:00      12  2016-03-30              0.916667    0     0   \\n7030 2016-03-30 16:00:00      29  2016-03-30              0.896552    0     0   \\n7031 2016-03-30 17:00:00     101  2016-03-30              0.871287    0     0   \\n7032 2016-03-30 18:00:00     114  2016-03-30              0.885965    0     0   \\n7033 2016-03-30 19:00:00      33  2016-03-30              0.969697    0     0   \\n7034 2016-03-30 20:00:00      11  2016-03-30              0.818182    0     0   \\n7035 2016-03-30 21:00:00       7  2016-03-30              0.714286    0     0   \\n7036 2016-03-30 22:00:00       3  2016-03-30              0.666667    0     0   \\n7037 2016-03-30 23:00:00       3  2016-03-30              1.000000    0     0   \\n7038 2016-03-31 05:00:00       1  2016-03-31              1.000000    0     0   \\n7039 2016-03-31 06:00:00      13  2016-03-31              1.000000    0     0   \\n7040 2016-03-31 07:00:00      40  2016-03-31              1.000000    0     0   \\n7041 2016-03-31 08:00:00      42  2016-03-31              0.904762    0     0   \\n7042 2016-03-31 09:00:00      48  2016-03-31              0.937500    0     0   \\n7043 2016-03-31 10:00:00      16  2016-03-31              0.812500    0     0   \\n7044 2016-03-31 11:00:00      11  2016-03-31              1.000000    0     0   \\n7045 2016-03-31 12:00:00       7  2016-03-31              0.857143    0     0   \\n7046 2016-03-31 13:00:00       6  2016-03-31              1.000000    0     0   \\n7047 2016-03-31 14:00:00      13  2016-03-31              0.923077    0     0   \\n7048 2016-03-31 15:00:00      17  2016-03-31              0.882353    0     0   \\n7049 2016-03-31 16:00:00      31  2016-03-31              0.838710    0     0   \\n7050 2016-03-31 17:00:00     121  2016-03-31              0.900826    0     0   \\n7051 2016-03-31 18:00:00      86  2016-03-31              0.848837    0     0   \\n7052 2016-03-31 19:00:00      37  2016-03-31              0.972973    0     0   \\n7053 2016-03-31 20:00:00      13  2016-03-31              0.846154    0     0   \\n7054 2016-03-31 21:00:00       5  2016-03-31              0.400000    0     0   \\n7055 2016-03-31 22:00:00       6  2016-03-31              1.000000    0     0   \\n7056 2016-03-31 23:00:00       5  2016-03-31              0.800000    0     0   \\n\\n      snow  hail  thunder  tornado  meantempm  maxtempm  meanvisi  \\\\\\n0        0     0        0        0          6        11        10   \\n1        0     0        0        0          6        11        10   \\n2        0     0        0        0          6        11        10   \\n3        0     0        0        0          6        11        10   \\n4        0     0        0        0          6        11        10   \\n5        0     0        0        0          6        11        10   \\n6        0     0        0        0          6        11        10   \\n7        0     0        0        0          6        11        10   \\n8        0     0        0        0          6        11        10   \\n9        0     0        0        0          6        11        10   \\n10       0     0        0        0          6        11        10   \\n11       0     0        0        0          6        11        10   \\n12       0     0        0        0          6        11        10   \\n13       0     0        0        0          6        11        10   \\n14       0     0        0        0          6        11        10   \\n15       0     0        0        0          6        11        10   \\n16       0     0        0        0          6        11        10   \\n17       0     0        0        0          6        11        10   \\n18       0     0        0        0         12        19        10   \\n19       0     0        0        0         12        19        10   \\n20       0     0        0        0         12        19        10   \\n21       0     0        0        0         12        19        10   \\n22       0     0        0        0         12        19        10   \\n23       0     0        0        0         12        19        10   \\n24       0     0        0        0         12        19        10   \\n25       0     0        0        0         12        19        10   \\n26       0     0        0        0         12        19        10   \\n27       0     0        0        0         12        19        10   \\n28       0     0        0        0         12        19        10   \\n29       0     0        0        0         12        19        10   \\n...    ...   ...      ...      ...        ...       ...       ...   \\n7027     0     0        0        0          8        13        10   \\n7028     0     0        0        0          8        13        10   \\n7029     0     0        0        0          8        13        10   \\n7030     0     0        0        0          8        13        10   \\n7031     0     0        0        0          8        13        10   \\n7032     0     0        0        0          8        13        10   \\n7033     0     0        0        0          8        13        10   \\n7034     0     0        0        0          8        13        10   \\n7035     0     0        0        0          8        13        10   \\n7036     0     0        0        0          8        13        10   \\n7037     0     0        0        0          8        13        10   \\n7038     0     0        0        0         16        23        10   \\n7039     0     0        0        0         16        23        10   \\n7040     0     0        0        0         16        23        10   \\n7041     0     0        0        0         16        23        10   \\n7042     0     0        0        0         16        23        10   \\n7043     0     0        0        0         16        23        10   \\n7044     0     0        0        0         16        23        10   \\n7045     0     0        0        0         16        23        10   \\n7046     0     0        0        0         16        23        10   \\n7047     0     0        0        0         16        23        10   \\n7048     0     0        0        0         16        23        10   \\n7049     0     0        0        0         16        23        10   \\n7050     0     0        0        0         16        23        10   \\n7051     0     0        0        0         16        23        10   \\n7052     0     0        0        0         16        23        10   \\n7053     0     0        0        0         16        23        10   \\n7054     0     0        0        0         16        23        10   \\n7055     0     0        0        0         16        23        10   \\n7056     0     0        0        0         16        23        10   \\n\\n      maxhumidity  precipm  \\n0              82        0  \\n1              82        0  \\n2              82        0  \\n3              82        0  \\n4              82        0  \\n5              82        0  \\n6              82        0  \\n7              82        0  \\n8              82        0  \\n9              82        0  \\n10             82        0  \\n11             82        0  \\n12             82        0  \\n13             82        0  \\n14             82        0  \\n15             82        0  \\n16             82        0  \\n17             82        0  \\n18             41        0  \\n19             41        0  \\n20             41        0  \\n21             41        0  \\n22             41        0  \\n23             41        0  \\n24             41        0  \\n25             41        0  \\n26             41        0  \\n27             41        0  \\n28             41        0  \\n29             41        0  \\n...           ...      ...  \\n7027           54        0  \\n7028           54        0  \\n7029           54        0  \\n7030           54        0  \\n7031           54        0  \\n7032           54        0  \\n7033           54        0  \\n7034           54        0  \\n7035           54        0  \\n7036           54        0  \\n7037           54        0  \\n7038           73        0  \\n7039           73        0  \\n7040           73        0  \\n7041           73        0  \\n7042           73        0  \\n7043           73        0  \\n7044           73        0  \\n7045           73        0  \\n7046           73        0  \\n7047           73        0  \\n7048           73        0  \\n7049           73        0  \\n7050           73        0  \\n7051           73        0  \\n7052           73        0  \\n7053           73        0  \\n7054           73        0  \\n7055           73        0  \\n7056           73        0  \\n\\n[7057 rows x 15 columns].csv'"
     ]
    }
   ],
   "source": [
    "tips = sns.load_dataset(final_df)\n",
    "\n",
    "# Draw a nested boxplot to show bills by day and sex\n",
    "sns.boxplot(x=\"startdatehour\", y=\"bikeid\", hue=\"usertype\", data=tips, palette=\"PRGn\")\n",
    "sns.despine(offset=10, trim=True)"
   ]
  },
  {
   "cell_type": "code",
   "execution_count": 4,
   "metadata": {
    "collapsed": false
   },
   "outputs": [
    {
     "name": "stdout",
     "output_type": "stream",
     "text": [
      "      dtstartdatehour  bikeid        date  male_to_female_ratio\n",
      "0 2015-04-01 02:00:00       2  2015-04-01              1.000000\n",
      "1 2015-04-01 05:00:00       2  2015-04-01              1.000000\n",
      "2 2015-04-01 06:00:00      12  2015-04-01              1.000000\n",
      "3 2015-04-01 07:00:00      26  2015-04-01              1.000000\n",
      "4 2015-04-01 08:00:00      21  2015-04-01              0.952381\n"
     ]
    }
   ],
   "source": [
    "# How many bikes will leave a particular station at a particular time?\n",
    "# First let's start with a single station. In our case, let's start with E 40 St & 5 Ave\n",
    "# dfFocusStation = bikedata[(bikedata['start station name'] == \"E 40 St & 5 Ave\") & (bikedata['usertype'] == 'Subscriber')]\n",
    "dfFocusStation = bikedata[(bikedata['start station name'] == \"Pershing Square North\")]\n",
    "\n",
    "dfGroupBy = dfFocusStation.groupby(by=['dtstartdatehour'])\n",
    "\n",
    "# Number of departures per hour\n",
    "departures = dfGroupBy.bikeid.count().reset_index()\n",
    "\n",
    "# Date column\n",
    "departures['date'] =  dfGroupBy.date.max().reset_index().date\n",
    "\n",
    "# Male to female ratio\n",
    "sum_male = dfGroupBy.male.sum().reset_index().male\n",
    "sum_female = dfGroupBy.female.sum().reset_index().female\n",
    "departures['male_to_female_ratio'] = (sum_male).astype(float) / (sum_male + sum_female)\n",
    "\n",
    "print departures.head()"
   ]
  },
  {
   "cell_type": "code",
   "execution_count": 5,
   "metadata": {
    "collapsed": false
   },
   "outputs": [
    {
     "data": {
      "text/html": [
       "<div>\n",
       "<table border=\"1\" class=\"dataframe\">\n",
       "  <thead>\n",
       "    <tr style=\"text-align: right;\">\n",
       "      <th></th>\n",
       "      <th>dtstartdatehour</th>\n",
       "      <th>bikeid</th>\n",
       "      <th>date</th>\n",
       "      <th>male_to_female_ratio</th>\n",
       "      <th>fog</th>\n",
       "      <th>rain</th>\n",
       "      <th>snow</th>\n",
       "      <th>hail</th>\n",
       "      <th>thunder</th>\n",
       "      <th>tornado</th>\n",
       "      <th>meantempm</th>\n",
       "      <th>maxtempm</th>\n",
       "      <th>meanvisi</th>\n",
       "      <th>maxhumidity</th>\n",
       "      <th>precipm</th>\n",
       "    </tr>\n",
       "  </thead>\n",
       "  <tbody>\n",
       "    <tr>\n",
       "      <th>0</th>\n",
       "      <td>2015-04-01 02:00:00</td>\n",
       "      <td>2</td>\n",
       "      <td>2015-04-01</td>\n",
       "      <td>1.000000</td>\n",
       "      <td>0</td>\n",
       "      <td>0</td>\n",
       "      <td>0</td>\n",
       "      <td>0</td>\n",
       "      <td>0</td>\n",
       "      <td>0</td>\n",
       "      <td>6</td>\n",
       "      <td>11</td>\n",
       "      <td>10</td>\n",
       "      <td>82</td>\n",
       "      <td>0</td>\n",
       "    </tr>\n",
       "    <tr>\n",
       "      <th>1</th>\n",
       "      <td>2015-04-01 05:00:00</td>\n",
       "      <td>2</td>\n",
       "      <td>2015-04-01</td>\n",
       "      <td>1.000000</td>\n",
       "      <td>0</td>\n",
       "      <td>0</td>\n",
       "      <td>0</td>\n",
       "      <td>0</td>\n",
       "      <td>0</td>\n",
       "      <td>0</td>\n",
       "      <td>6</td>\n",
       "      <td>11</td>\n",
       "      <td>10</td>\n",
       "      <td>82</td>\n",
       "      <td>0</td>\n",
       "    </tr>\n",
       "    <tr>\n",
       "      <th>2</th>\n",
       "      <td>2015-04-01 06:00:00</td>\n",
       "      <td>12</td>\n",
       "      <td>2015-04-01</td>\n",
       "      <td>1.000000</td>\n",
       "      <td>0</td>\n",
       "      <td>0</td>\n",
       "      <td>0</td>\n",
       "      <td>0</td>\n",
       "      <td>0</td>\n",
       "      <td>0</td>\n",
       "      <td>6</td>\n",
       "      <td>11</td>\n",
       "      <td>10</td>\n",
       "      <td>82</td>\n",
       "      <td>0</td>\n",
       "    </tr>\n",
       "    <tr>\n",
       "      <th>3</th>\n",
       "      <td>2015-04-01 07:00:00</td>\n",
       "      <td>26</td>\n",
       "      <td>2015-04-01</td>\n",
       "      <td>1.000000</td>\n",
       "      <td>0</td>\n",
       "      <td>0</td>\n",
       "      <td>0</td>\n",
       "      <td>0</td>\n",
       "      <td>0</td>\n",
       "      <td>0</td>\n",
       "      <td>6</td>\n",
       "      <td>11</td>\n",
       "      <td>10</td>\n",
       "      <td>82</td>\n",
       "      <td>0</td>\n",
       "    </tr>\n",
       "    <tr>\n",
       "      <th>4</th>\n",
       "      <td>2015-04-01 08:00:00</td>\n",
       "      <td>21</td>\n",
       "      <td>2015-04-01</td>\n",
       "      <td>0.952381</td>\n",
       "      <td>0</td>\n",
       "      <td>0</td>\n",
       "      <td>0</td>\n",
       "      <td>0</td>\n",
       "      <td>0</td>\n",
       "      <td>0</td>\n",
       "      <td>6</td>\n",
       "      <td>11</td>\n",
       "      <td>10</td>\n",
       "      <td>82</td>\n",
       "      <td>0</td>\n",
       "    </tr>\n",
       "  </tbody>\n",
       "</table>\n",
       "</div>"
      ],
      "text/plain": [
       "      dtstartdatehour  bikeid        date  male_to_female_ratio  fog  rain  \\\n",
       "0 2015-04-01 02:00:00       2  2015-04-01              1.000000    0     0   \n",
       "1 2015-04-01 05:00:00       2  2015-04-01              1.000000    0     0   \n",
       "2 2015-04-01 06:00:00      12  2015-04-01              1.000000    0     0   \n",
       "3 2015-04-01 07:00:00      26  2015-04-01              1.000000    0     0   \n",
       "4 2015-04-01 08:00:00      21  2015-04-01              0.952381    0     0   \n",
       "\n",
       "   snow  hail  thunder  tornado  meantempm  maxtempm  meanvisi  maxhumidity  \\\n",
       "0     0     0        0        0          6        11        10           82   \n",
       "1     0     0        0        0          6        11        10           82   \n",
       "2     0     0        0        0          6        11        10           82   \n",
       "3     0     0        0        0          6        11        10           82   \n",
       "4     0     0        0        0          6        11        10           82   \n",
       "\n",
       "   precipm  \n",
       "0        0  \n",
       "1        0  \n",
       "2        0  \n",
       "3        0  \n",
       "4        0  "
      ]
     },
     "execution_count": 5,
     "metadata": {},
     "output_type": "execute_result"
    }
   ],
   "source": [
    "# Join with weather data\n",
    "weather_file = './data/temperature/weather.csv'\n",
    "weather = pd.read_csv(weather_file)\n",
    "weather.drop('Unnamed: 0', axis=1, inplace=True)\n",
    "\n",
    "final_df = pd.merge(departures, weather, on='date', how='left')\n",
    "final_df.head()"
   ]
  },
  {
   "cell_type": "code",
   "execution_count": null,
   "metadata": {
    "collapsed": true
   },
   "outputs": [],
   "source": [
    "final_df.describe()\n",
    "# plt.bar(final_df.date, final_df.bikeid)\n",
    "final_df.meanvisi.fillna(0, inplace=True)"
   ]
  },
  {
   "cell_type": "code",
   "execution_count": 28,
   "metadata": {
    "collapsed": false
   },
   "outputs": [
    {
     "data": {
      "text/plain": [
       "<matplotlib.axes._subplots.AxesSubplot at 0x10e8dfc90>"
      ]
     },
     "execution_count": 28,
     "metadata": {},
     "output_type": "execute_result"
    },
    {
     "data": {
      "image/png": "[encoded data removed]",
      "text/plain": [
       "<matplotlib.figure.Figure at 0x10ebf2910>"
      ]
     },
     "metadata": {},
     "output_type": "display_data"
    }
   ],
   "source": [
    "final_df['startdatehour'] = final_df.dtstartdatehour.dt.hour\n",
    "# plt.boxplot([(final_df.bikeid), (final_df.dtstartdatehour.dt.hour)])\n",
    "final_df.boxplot(column='bikeid', by='startdatehour')"
   ]
  },
  {
   "cell_type": "code",
   "execution_count": null,
   "metadata": {
    "collapsed": true
   },
   "outputs": [],
   "source": []
  }
 ],
 "metadata": {
  "kernelspec": {
   "display_name": "Python 2",
   "language": "python",
   "name": "python2"
  },
  "language_info": {
   "codemirror_mode": {
    "name": "ipython",
    "version": 2
   },
   "file_extension": ".py",
   "mimetype": "text/x-python",
   "name": "python",
   "nbconvert_exporter": "python",
   "pygments_lexer": "ipython2",
   "version": "2.7.11"
  }
 },
 "nbformat": 4,
 "nbformat_minor": 0
}
