{
 "cells": [
  {
   "cell_type": "code",
   "execution_count": 145,
   "metadata": {
    "collapsed": true
   },
   "outputs": [],
   "source": [
    "import pandas as pd\n",
    "import numpy as np\n",
    "import feather\n",
    "from sklearn import linear_model\n",
    "from sklearn import cross_validation\n",
    "from sklearn import preprocessing\n",
    "from sklearn import metrics\n",
    "import matplotlib.pyplot as plt\n",
    "%matplotlib inline"
   ]
  },
  {
   "cell_type": "markdown",
   "metadata": {},
   "source": [
    "Importing trip data for March 2016 and Weather data from Weather Underground. \n",
    "\n",
    "The source data is read in a separate Python class. It is manipulated as a DataFrame and finally exported into Feather format. The exported file is imported in this notebook. To read more about Feather, read https://blog.rstudio.org/2016/03/29/feather/\n",
    "\n",
    "The benefit of doing this were:\n",
    "- The ETL part of the analysis is in a separate file (CitiBike_ETL.py)\n",
    "- The Feather file can read in R also\n",
    "- During analysis, this notebook will be run multiple times and it is efficient to just import the DataFrame"
   ]
  },
  {
   "cell_type": "code",
   "execution_count": 87,
   "metadata": {
    "collapsed": false
   },
   "outputs": [
    {
     "name": "stdout",
     "output_type": "stream",
     "text": [
      "Index([u'bikeid', u'birth year', u'date', u'dtstartdatehour',\n",
      "       u'dtstopdatehour', u'end station id', u'end station latitude',\n",
      "       u'end station longitude', u'end station name', u'female', u'male',\n",
      "       u'start station id', u'start station latitude',\n",
      "       u'start station longitude', u'start station name', u'starttime',\n",
      "       u'stoptime', u'tripduration', u'usertype'],\n",
      "      dtype='object')\n",
      "   bikeid  birth year        date     dtstartdatehour      dtstopdatehour  \\\n",
      "0   23914        1982  2016-03-01 2016-03-01 06:00:00 2016-03-01 07:00:00   \n",
      "1   23697        1978  2016-03-01 2016-03-01 07:00:00 2016-03-01 07:00:00   \n",
      "2   21447        1960  2016-03-01 2016-03-01 07:00:00 2016-03-01 07:00:00   \n",
      "3   22351        1986  2016-03-01 2016-03-01 07:00:00 2016-03-01 07:00:00   \n",
      "4   20985        1978  2016-03-01 2016-03-01 07:00:00 2016-03-01 08:00:00   \n",
      "\n",
      "   end station id  end station latitude  end station longitude  \\\n",
      "0             427             40.701907             -74.013942   \n",
      "1             254             40.735324             -73.998004   \n",
      "2             493             40.756800             -73.982912   \n",
      "3             478             40.760301             -73.998842   \n",
      "4             151             40.722104             -73.997249   \n",
      "\n",
      "           end station name  female  male  start station id  \\\n",
      "0       Bus Slip & State St       0     1                72   \n",
      "1           W 11 St & 6 Ave       0     1                72   \n",
      "2           W 45 St & 6 Ave       1     0                72   \n",
      "3          11 Ave & W 41 St       0     1                72   \n",
      "4  Cleveland Pl & Spring St       0     1                72   \n",
      "\n",
      "   start station latitude  start station longitude start station name  \\\n",
      "0               40.767272               -73.993929   W 52 St & 11 Ave   \n",
      "1               40.767272               -73.993929   W 52 St & 11 Ave   \n",
      "2               40.767272               -73.993929   W 52 St & 11 Ave   \n",
      "3               40.767272               -73.993929   W 52 St & 11 Ave   \n",
      "4               40.767272               -73.993929   W 52 St & 11 Ave   \n",
      "\n",
      "           starttime           stoptime  tripduration    usertype  \n",
      "0  3/1/2016 06:52:42  3/1/2016 07:17:33          1491  Subscriber  \n",
      "1  3/1/2016 07:05:50  3/1/2016 07:23:15          1044  Subscriber  \n",
      "2  3/1/2016 07:15:05  3/1/2016 07:26:59           714  Subscriber  \n",
      "3  3/1/2016 07:26:04  3/1/2016 07:31:34           329  Subscriber  \n",
      "4  3/1/2016 07:31:30  3/1/2016 08:02:41          1871  Subscriber  \n"
     ]
    }
   ],
   "source": [
    "bikedata = feather.read_dataframe('../../Data/CitiBike_Data/bikedata.feather')\n",
    "print bikedata.columns\n",
    "print bikedata.head()"
   ]
  },
  {
   "cell_type": "code",
   "execution_count": 142,
   "metadata": {
    "collapsed": false
   },
   "outputs": [
    {
     "name": "stdout",
     "output_type": "stream",
     "text": [
      "      dtstartdatehour  bikeid        date  male_to_female_ratio\n",
      "0 2016-03-01 01:00:00       1  2016-03-01                  1.00\n",
      "1 2016-03-01 07:00:00       6  2016-03-01                  1.00\n",
      "2 2016-03-01 08:00:00      20  2016-03-01                  0.85\n",
      "3 2016-03-01 09:00:00       3  2016-03-01                  1.00\n",
      "4 2016-03-01 10:00:00       4  2016-03-01                  1.00\n"
     ]
    }
   ],
   "source": [
    "# How many bikes will leave a particular station at a particular time?\n",
    "# First let's start with a single station. In our case, let's start with E 40 St & 5 Ave\n",
    "dfFocusStation = bikedata[bikedata['start station name'] == \"E 40 St & 5 Ave\"]\n",
    "\n",
    "dfGroupBy = dfFocusStation.groupby(by=['dtstartdatehour'])\n",
    "\n",
    "# Number of departures per hour\n",
    "departures = dfGroupBy.bikeid.count().reset_index()\n",
    "\n",
    "# Date column\n",
    "departures['date'] =  dfGroupBy.date.max().reset_index().date\n",
    "\n",
    "# Male to female ratio\n",
    "sum_male = dfGroupBy.male.sum().reset_index().male\n",
    "sum_female = dfGroupBy.female.sum().reset_index().female\n",
    "departures['male_to_female_ratio'] = (sum_male).astype(float) / (sum_male + sum_female)\n",
    "\n",
    "print departures.head()"
   ]
  },
  {
   "cell_type": "code",
   "execution_count": 143,
   "metadata": {
    "collapsed": false
   },
   "outputs": [
    {
     "data": {
      "text/html": [
       "<div>\n",
       "<table border=\"1\" class=\"dataframe\">\n",
       "  <thead>\n",
       "    <tr style=\"text-align: right;\">\n",
       "      <th></th>\n",
       "      <th>dtstartdatehour</th>\n",
       "      <th>bikeid</th>\n",
       "      <th>date</th>\n",
       "      <th>male_to_female_ratio</th>\n",
       "      <th>fog</th>\n",
       "      <th>rain</th>\n",
       "      <th>snow</th>\n",
       "      <th>hail</th>\n",
       "      <th>thunder</th>\n",
       "      <th>tornado</th>\n",
       "      <th>meantempm</th>\n",
       "      <th>maxtempm</th>\n",
       "      <th>meanvisi</th>\n",
       "      <th>maxhumidity</th>\n",
       "    </tr>\n",
       "  </thead>\n",
       "  <tbody>\n",
       "    <tr>\n",
       "      <th>0</th>\n",
       "      <td>2016-03-01 01:00:00</td>\n",
       "      <td>1</td>\n",
       "      <td>2016-03-01</td>\n",
       "      <td>1.00</td>\n",
       "      <td>0</td>\n",
       "      <td>0</td>\n",
       "      <td>0</td>\n",
       "      <td>0</td>\n",
       "      <td>0</td>\n",
       "      <td>0</td>\n",
       "      <td>8</td>\n",
       "      <td>11</td>\n",
       "      <td>10</td>\n",
       "      <td>80</td>\n",
       "    </tr>\n",
       "    <tr>\n",
       "      <th>1</th>\n",
       "      <td>2016-03-01 07:00:00</td>\n",
       "      <td>6</td>\n",
       "      <td>2016-03-01</td>\n",
       "      <td>1.00</td>\n",
       "      <td>0</td>\n",
       "      <td>0</td>\n",
       "      <td>0</td>\n",
       "      <td>0</td>\n",
       "      <td>0</td>\n",
       "      <td>0</td>\n",
       "      <td>8</td>\n",
       "      <td>11</td>\n",
       "      <td>10</td>\n",
       "      <td>80</td>\n",
       "    </tr>\n",
       "    <tr>\n",
       "      <th>2</th>\n",
       "      <td>2016-03-01 08:00:00</td>\n",
       "      <td>20</td>\n",
       "      <td>2016-03-01</td>\n",
       "      <td>0.85</td>\n",
       "      <td>0</td>\n",
       "      <td>0</td>\n",
       "      <td>0</td>\n",
       "      <td>0</td>\n",
       "      <td>0</td>\n",
       "      <td>0</td>\n",
       "      <td>8</td>\n",
       "      <td>11</td>\n",
       "      <td>10</td>\n",
       "      <td>80</td>\n",
       "    </tr>\n",
       "    <tr>\n",
       "      <th>3</th>\n",
       "      <td>2016-03-01 09:00:00</td>\n",
       "      <td>3</td>\n",
       "      <td>2016-03-01</td>\n",
       "      <td>1.00</td>\n",
       "      <td>0</td>\n",
       "      <td>0</td>\n",
       "      <td>0</td>\n",
       "      <td>0</td>\n",
       "      <td>0</td>\n",
       "      <td>0</td>\n",
       "      <td>8</td>\n",
       "      <td>11</td>\n",
       "      <td>10</td>\n",
       "      <td>80</td>\n",
       "    </tr>\n",
       "    <tr>\n",
       "      <th>4</th>\n",
       "      <td>2016-03-01 10:00:00</td>\n",
       "      <td>4</td>\n",
       "      <td>2016-03-01</td>\n",
       "      <td>1.00</td>\n",
       "      <td>0</td>\n",
       "      <td>0</td>\n",
       "      <td>0</td>\n",
       "      <td>0</td>\n",
       "      <td>0</td>\n",
       "      <td>0</td>\n",
       "      <td>8</td>\n",
       "      <td>11</td>\n",
       "      <td>10</td>\n",
       "      <td>80</td>\n",
       "    </tr>\n",
       "  </tbody>\n",
       "</table>\n",
       "</div>"
      ],
      "text/plain": [
       "      dtstartdatehour  bikeid        date  male_to_female_ratio  fog  rain  \\\n",
       "0 2016-03-01 01:00:00       1  2016-03-01                  1.00    0     0   \n",
       "1 2016-03-01 07:00:00       6  2016-03-01                  1.00    0     0   \n",
       "2 2016-03-01 08:00:00      20  2016-03-01                  0.85    0     0   \n",
       "3 2016-03-01 09:00:00       3  2016-03-01                  1.00    0     0   \n",
       "4 2016-03-01 10:00:00       4  2016-03-01                  1.00    0     0   \n",
       "\n",
       "   snow  hail  thunder  tornado  meantempm  maxtempm  meanvisi  maxhumidity  \n",
       "0     0     0        0        0          8        11        10           80  \n",
       "1     0     0        0        0          8        11        10           80  \n",
       "2     0     0        0        0          8        11        10           80  \n",
       "3     0     0        0        0          8        11        10           80  \n",
       "4     0     0        0        0          8        11        10           80  "
      ]
     },
     "execution_count": 143,
     "metadata": {},
     "output_type": "execute_result"
    }
   ],
   "source": [
    "# Join with weather data\n",
    "weather_file = './data/temperature/weather.csv'\n",
    "weather = pd.read_csv(weather_file)\n",
    "weather.drop('Unnamed: 0', axis=1, inplace=True)\n",
    "\n",
    "final_df = pd.merge(departures, weather, on='date', how='left')\n",
    "final_df.head()"
   ]
  },
  {
   "cell_type": "code",
   "execution_count": 144,
   "metadata": {
    "collapsed": false
   },
   "outputs": [
    {
     "name": "stdout",
     "output_type": "stream",
     "text": [
      "RMSE:  5.41174243009\n",
      "R2 score:  0.0203012176324\n"
     ]
    }
   ],
   "source": [
    "# Create linear regression object\n",
    "regr = linear_model.LinearRegression()\n",
    "\n",
    "# LabelEncoder for the dtstartdatehour column\n",
    "le = preprocessing.LabelEncoder()\n",
    "le.fit(final_df.dtstartdatehour)\n",
    "final_df['startdatehour'] = le.transform(final_df.dtstartdatehour)\n",
    "# LabelEncoder ends\n",
    "\n",
    "cols = [col for col in final_df.columns if col not in ['bikeid', 'dtstartdatehour', 'date']]\n",
    "\n",
    "x = final_df[cols]\n",
    "y = final_df.bikeid\n",
    "\n",
    "X_train, X_test, y_train, y_test = cross_validation.train_test_split(x, y, random_state = 1)\n",
    "regr.fit(X_train, y_train)\n",
    "pred = regr.predict(X_test)\n",
    "rmse = np.sqrt(metrics.mean_squared_error(y_test, pred))\n",
    "r2_score = metrics.r2_score(y_test, pred)\n",
    "\n",
    "print 'RMSE: ', rmse\n",
    "print 'R2 score: ', r2_score"
   ]
  }
 ],
 "metadata": {
  "kernelspec": {
   "display_name": "Python 2",
   "language": "python",
   "name": "python2"
  },
  "language_info": {
   "codemirror_mode": {
    "name": "ipython",
    "version": 2
   },
   "file_extension": ".py",
   "mimetype": "text/x-python",
   "name": "python",
   "nbconvert_exporter": "python",
   "pygments_lexer": "ipython2",
   "version": "2.7.11"
  }
 },
 "nbformat": 4,
 "nbformat_minor": 0
}
