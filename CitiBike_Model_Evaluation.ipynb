{
 "cells": [
  {
   "cell_type": "code",
   "execution_count": 168,
   "metadata": {
    "collapsed": true
   },
   "outputs": [],
   "source": [
    "import math\n",
    "import pandas as pd\n",
    "import numpy as np\n",
    "import feather\n",
    "from sklearn import linear_model\n",
    "from sklearn import cross_validation\n",
    "from sklearn import preprocessing\n",
    "from sklearn import metrics\n",
    "from sklearn import ensemble\n",
    "import matplotlib.pyplot as plt\n",
    "%matplotlib inline"
   ]
  },
  {
   "cell_type": "markdown",
   "metadata": {},
   "source": [
    "Importing trip data for March 2016 and Weather data from Weather Underground. \n",
    "\n",
    "The source data is read in a separate Python class. It is manipulated as a DataFrame and finally exported into Feather format. The exported file is imported in this notebook. To read more about Feather, read https://blog.rstudio.org/2016/03/29/feather/\n",
    "\n",
    "The benefit of doing this were:\n",
    "- The ETL part of the analysis is in a separate file (CitiBike_ETL.py)\n",
    "- The Feather file can read in R also\n",
    "- During analysis, this notebook will be run multiple times and it is efficient to just import the DataFrame"
   ]
  },
  {
   "cell_type": "code",
   "execution_count": 169,
   "metadata": {
    "collapsed": false
   },
   "outputs": [
    {
     "name": "stdout",
     "output_type": "stream",
     "text": [
      "Index([u'bikeid', u'birth year', u'dtstartdatehour', u'dtstopdatehour',\n",
      "       u'end station id', u'end station latitude', u'end station longitude',\n",
      "       u'end station name', u'female', u'male', u'start station id',\n",
      "       u'start station latitude', u'start station longitude',\n",
      "       u'start station name', u'startdatehour', u'starttime', u'stoptime',\n",
      "       u'tripduration', u'usertype'],\n",
      "      dtype='object')\n",
      "10454235\n"
     ]
    }
   ],
   "source": [
    "bikedata = feather.read_dataframe('../../Data/CitiBike_Data/bikedata.feather')\n",
    "print bikedata.columns\n",
    "print len(bikedata)"
   ]
  },
  {
   "cell_type": "code",
   "execution_count": 170,
   "metadata": {
    "collapsed": false
   },
   "outputs": [
    {
     "data": {
      "text/plain": [
       "start station name\n",
       "Pershing Square North    120672\n",
       "Lafayette St & E 8 St    104621\n",
       "8 Ave & W 31 St          104413\n",
       "W 21 St & 6 Ave           99316\n",
       "E 17 St & Broadway        91051\n",
       "Broadway & E 14 St        78803\n",
       "Broadway & E 22 St        74463\n",
       "Greenwich Ave & 8 Ave     74062\n",
       "8 Ave & W 33 St           73087\n",
       "W 41 St & 8 Ave           71850\n",
       "Name: bikeid, dtype: int64"
      ]
     },
     "execution_count": 170,
     "metadata": {},
     "output_type": "execute_result"
    }
   ],
   "source": [
    "bikedata.groupby(by='start station name').bikeid.count().sort_values(ascending=False).head(10)"
   ]
  },
  {
   "cell_type": "code",
   "execution_count": 178,
   "metadata": {
    "collapsed": false
   },
   "outputs": [
    {
     "name": "stdout",
     "output_type": "stream",
     "text": [
      "      dtstartdatehour  bikeid        startdatehour   startdate  \\\n",
      "0 2015-01-01 03:00:00       1  2015-01-01 03:00:00  2015-01-01   \n",
      "1 2015-01-01 12:00:00       1  2015-01-01 12:00:00  2015-01-01   \n",
      "2 2015-01-01 14:00:00       2  2015-01-01 14:00:00  2015-01-01   \n",
      "3 2015-01-01 16:00:00       2  2015-01-01 16:00:00  2015-01-01   \n",
      "4 2015-01-01 17:00:00       2  2015-01-01 17:00:00  2015-01-01   \n",
      "\n",
      "   male_to_female_ratio  \n",
      "0                   1.0  \n",
      "1                   1.0  \n",
      "2                   1.0  \n",
      "3                   0.5  \n",
      "4                   1.0  \n"
     ]
    }
   ],
   "source": [
    "# How many bikes will leave a particular station at a particular time?\n",
    "# First let's start with a single station. In our case, let's start with E 40 St & 5 Ave\n",
    "# dfFocusStation = bikedata[(bikedata['start station name'] == \"E 40 St & 5 Ave\") & (bikedata['usertype'] == 'Subscriber')]\n",
    "dfFocusStation = bikedata[(bikedata['start station name'] == \"Pershing Square North\")]\n",
    "\n",
    "dfGroupBy = dfFocusStation.groupby(by=['dtstartdatehour'])\n",
    "\n",
    "# Number of departures per hour\n",
    "departures = dfGroupBy.bikeid.count().reset_index()\n",
    "\n",
    "# Date column\n",
    "departures['startdatehour'] = dfGroupBy.startdatehour.max().reset_index().startdatehour\n",
    "departures['startdate'] = departures.dtstartdatehour.dt.date.apply(lambda x:x.strftime('%Y-%m-%d'))\n",
    "\n",
    "# Male to female ratio\n",
    "sum_male = dfGroupBy.male.sum().reset_index().male\n",
    "sum_female = dfGroupBy.female.sum().reset_index().female\n",
    "departures['male_to_female_ratio'] = (sum_male).astype(float) / (sum_male + sum_female)\n",
    "\n",
    "print departures.head()"
   ]
  },
  {
   "cell_type": "code",
   "execution_count": 179,
   "metadata": {
    "collapsed": false
   },
   "outputs": [
    {
     "data": {
      "text/html": [
       "<div>\n",
       "<table border=\"1\" class=\"dataframe\">\n",
       "  <thead>\n",
       "    <tr style=\"text-align: right;\">\n",
       "      <th></th>\n",
       "      <th>bikeid</th>\n",
       "      <th>startdatehour</th>\n",
       "      <th>male_to_female_ratio</th>\n",
       "      <th>day_type</th>\n",
       "    </tr>\n",
       "  </thead>\n",
       "  <tbody>\n",
       "    <tr>\n",
       "      <th>0</th>\n",
       "      <td>1</td>\n",
       "      <td>2015-01-01 03:00:00</td>\n",
       "      <td>1.0</td>\n",
       "      <td>2</td>\n",
       "    </tr>\n",
       "    <tr>\n",
       "      <th>1</th>\n",
       "      <td>1</td>\n",
       "      <td>2015-01-01 12:00:00</td>\n",
       "      <td>1.0</td>\n",
       "      <td>2</td>\n",
       "    </tr>\n",
       "    <tr>\n",
       "      <th>2</th>\n",
       "      <td>2</td>\n",
       "      <td>2015-01-01 14:00:00</td>\n",
       "      <td>1.0</td>\n",
       "      <td>2</td>\n",
       "    </tr>\n",
       "    <tr>\n",
       "      <th>3</th>\n",
       "      <td>2</td>\n",
       "      <td>2015-01-01 16:00:00</td>\n",
       "      <td>0.5</td>\n",
       "      <td>2</td>\n",
       "    </tr>\n",
       "    <tr>\n",
       "      <th>4</th>\n",
       "      <td>2</td>\n",
       "      <td>2015-01-01 17:00:00</td>\n",
       "      <td>1.0</td>\n",
       "      <td>2</td>\n",
       "    </tr>\n",
       "  </tbody>\n",
       "</table>\n",
       "</div>"
      ],
      "text/plain": [
       "   bikeid        startdatehour  male_to_female_ratio  day_type\n",
       "0       1  2015-01-01 03:00:00                   1.0         2\n",
       "1       1  2015-01-01 12:00:00                   1.0         2\n",
       "2       2  2015-01-01 14:00:00                   1.0         2\n",
       "3       2  2015-01-01 16:00:00                   0.5         2\n",
       "4       2  2015-01-01 17:00:00                   1.0         2"
      ]
     },
     "execution_count": 179,
     "metadata": {},
     "output_type": "execute_result"
    }
   ],
   "source": [
    "# Import holiday data\n",
    "holiday = pd.read_csv('./data/public_holiday.csv')\n",
    "\n",
    "# Merge with departures dataframe\n",
    "holiday_df = pd.merge(departures, holiday, left_on='startdate', right_on = 'Date', how='left')\n",
    "holiday_df.Holiday.fillna(0, inplace=True)\n",
    "holiday_df['dayofweek'] = holiday_df['dtstartdatehour'].dt.dayofweek.values\n",
    "\n",
    "holiday_df.loc[holiday_df.dayofweek <= 4, 'day_type'] = 0 #'weekday'\n",
    "holiday_df.loc[holiday_df.dayofweek > 4, 'day_type'] = 1 #'weekend'\n",
    "holiday_df.loc[holiday_df.Holiday <> 0, 'day_type'] = 2 #'holiday'\n",
    "\n",
    "holiday_df.drop('Date', axis=1, inplace=True)\n",
    "holiday_df.drop('Holiday', axis=1, inplace=True)\n",
    "holiday_df.drop('dayofweek', axis=1, inplace=True)\n",
    "holiday_df.drop('dtstartdatehour', axis=1, inplace=True)\n",
    "holiday_df.drop('startdate', axis=1, inplace=True)\n",
    "\n",
    "holiday_df[holiday_df.day_type == 2].head()"
   ]
  },
  {
   "cell_type": "code",
   "execution_count": 185,
   "metadata": {
    "collapsed": false
   },
   "outputs": [],
   "source": [
    "# Join with weather data\n",
    "weather_file = './data/temperature/weather.csv'\n",
    "weather = pd.read_csv(weather_file)\n",
    "weather.drop('Unnamed: 0', axis=1, inplace=True)\n"
   ]
  },
  {
   "cell_type": "code",
   "execution_count": 186,
   "metadata": {
    "collapsed": false
   },
   "outputs": [
    {
     "data": {
      "text/html": [
       "<div>\n",
       "<table border=\"1\" class=\"dataframe\">\n",
       "  <thead>\n",
       "    <tr style=\"text-align: right;\">\n",
       "      <th></th>\n",
       "      <th>bikeid</th>\n",
       "      <th>startdatehour</th>\n",
       "      <th>male_to_female_ratio</th>\n",
       "      <th>day_type</th>\n",
       "      <th>date</th>\n",
       "      <th>temp</th>\n",
       "      <th>fog</th>\n",
       "      <th>rain</th>\n",
       "      <th>snow</th>\n",
       "      <th>hail</th>\n",
       "      <th>thunder</th>\n",
       "      <th>tornado</th>\n",
       "      <th>visi</th>\n",
       "      <th>dewptm</th>\n",
       "      <th>humidity</th>\n",
       "      <th>wind_speed</th>\n",
       "    </tr>\n",
       "  </thead>\n",
       "  <tbody>\n",
       "    <tr>\n",
       "      <th>0</th>\n",
       "      <td>1</td>\n",
       "      <td>2015-01-01 03:00:00</td>\n",
       "      <td>1.0</td>\n",
       "      <td>2</td>\n",
       "      <td>2015-01-01 03:00:00</td>\n",
       "      <td>-2.8</td>\n",
       "      <td>0</td>\n",
       "      <td>0</td>\n",
       "      <td>0</td>\n",
       "      <td>0</td>\n",
       "      <td>0</td>\n",
       "      <td>0</td>\n",
       "      <td>10</td>\n",
       "      <td>-13.9</td>\n",
       "      <td>43</td>\n",
       "      <td>5.6</td>\n",
       "    </tr>\n",
       "    <tr>\n",
       "      <th>1</th>\n",
       "      <td>1</td>\n",
       "      <td>2015-01-01 12:00:00</td>\n",
       "      <td>1.0</td>\n",
       "      <td>2</td>\n",
       "      <td>2015-01-01 12:00:00</td>\n",
       "      <td>1.7</td>\n",
       "      <td>0</td>\n",
       "      <td>0</td>\n",
       "      <td>0</td>\n",
       "      <td>0</td>\n",
       "      <td>0</td>\n",
       "      <td>0</td>\n",
       "      <td>10</td>\n",
       "      <td>-13.9</td>\n",
       "      <td>31</td>\n",
       "      <td>16.7</td>\n",
       "    </tr>\n",
       "    <tr>\n",
       "      <th>2</th>\n",
       "      <td>2</td>\n",
       "      <td>2015-01-01 14:00:00</td>\n",
       "      <td>1.0</td>\n",
       "      <td>2</td>\n",
       "      <td>2015-01-01 14:00:00</td>\n",
       "      <td>3.3</td>\n",
       "      <td>0</td>\n",
       "      <td>0</td>\n",
       "      <td>0</td>\n",
       "      <td>0</td>\n",
       "      <td>0</td>\n",
       "      <td>0</td>\n",
       "      <td>10</td>\n",
       "      <td>-13.3</td>\n",
       "      <td>29</td>\n",
       "      <td>14.8</td>\n",
       "    </tr>\n",
       "    <tr>\n",
       "      <th>3</th>\n",
       "      <td>2</td>\n",
       "      <td>2015-01-01 16:00:00</td>\n",
       "      <td>0.5</td>\n",
       "      <td>2</td>\n",
       "      <td>2015-01-01 16:00:00</td>\n",
       "      <td>3.9</td>\n",
       "      <td>0</td>\n",
       "      <td>0</td>\n",
       "      <td>0</td>\n",
       "      <td>0</td>\n",
       "      <td>0</td>\n",
       "      <td>0</td>\n",
       "      <td>10</td>\n",
       "      <td>-11.7</td>\n",
       "      <td>32</td>\n",
       "      <td>18.5</td>\n",
       "    </tr>\n",
       "    <tr>\n",
       "      <th>4</th>\n",
       "      <td>2</td>\n",
       "      <td>2015-01-01 17:00:00</td>\n",
       "      <td>1.0</td>\n",
       "      <td>2</td>\n",
       "      <td>2015-01-01 17:00:00</td>\n",
       "      <td>3.9</td>\n",
       "      <td>0</td>\n",
       "      <td>0</td>\n",
       "      <td>0</td>\n",
       "      <td>0</td>\n",
       "      <td>0</td>\n",
       "      <td>0</td>\n",
       "      <td>10</td>\n",
       "      <td>-10.6</td>\n",
       "      <td>34</td>\n",
       "      <td>11.1</td>\n",
       "    </tr>\n",
       "  </tbody>\n",
       "</table>\n",
       "</div>"
      ],
      "text/plain": [
       "   bikeid        startdatehour  male_to_female_ratio  day_type  \\\n",
       "0       1  2015-01-01 03:00:00                   1.0         2   \n",
       "1       1  2015-01-01 12:00:00                   1.0         2   \n",
       "2       2  2015-01-01 14:00:00                   1.0         2   \n",
       "3       2  2015-01-01 16:00:00                   0.5         2   \n",
       "4       2  2015-01-01 17:00:00                   1.0         2   \n",
       "\n",
       "                  date  temp  fog  rain  snow  hail  thunder  tornado  visi  \\\n",
       "0  2015-01-01 03:00:00  -2.8    0     0     0     0        0        0    10   \n",
       "1  2015-01-01 12:00:00   1.7    0     0     0     0        0        0    10   \n",
       "2  2015-01-01 14:00:00   3.3    0     0     0     0        0        0    10   \n",
       "3  2015-01-01 16:00:00   3.9    0     0     0     0        0        0    10   \n",
       "4  2015-01-01 17:00:00   3.9    0     0     0     0        0        0    10   \n",
       "\n",
       "   dewptm  humidity  wind_speed  \n",
       "0   -13.9        43         5.6  \n",
       "1   -13.9        31        16.7  \n",
       "2   -13.3        29        14.8  \n",
       "3   -11.7        32        18.5  \n",
       "4   -10.6        34        11.1  "
      ]
     },
     "execution_count": 186,
     "metadata": {},
     "output_type": "execute_result"
    }
   ],
   "source": [
    "# final_df = pd.merge(departures, weather, on='date', how='left')\n",
    "final_df = pd.merge(holiday_df, weather, left_on='startdatehour', right_on = 'date', how='left')\n",
    "final_df.head()"
   ]
  },
  {
   "cell_type": "code",
   "execution_count": 187,
   "metadata": {
    "collapsed": false
   },
   "outputs": [
    {
     "data": {
      "text/html": [
       "<div>\n",
       "<table border=\"1\" class=\"dataframe\">\n",
       "  <thead>\n",
       "    <tr style=\"text-align: right;\">\n",
       "      <th></th>\n",
       "      <th>bikeid</th>\n",
       "      <th>male_to_female_ratio</th>\n",
       "      <th>day_type</th>\n",
       "      <th>temp</th>\n",
       "      <th>fog</th>\n",
       "      <th>rain</th>\n",
       "      <th>snow</th>\n",
       "      <th>hail</th>\n",
       "      <th>thunder</th>\n",
       "      <th>tornado</th>\n",
       "      <th>visi</th>\n",
       "      <th>dewptm</th>\n",
       "      <th>humidity</th>\n",
       "      <th>wind_speed</th>\n",
       "    </tr>\n",
       "  </thead>\n",
       "  <tbody>\n",
       "    <tr>\n",
       "      <th>count</th>\n",
       "      <td>8360.000000</td>\n",
       "      <td>8360.000000</td>\n",
       "      <td>8360.000000</td>\n",
       "      <td>8360.000000</td>\n",
       "      <td>8360.000000</td>\n",
       "      <td>8360.000000</td>\n",
       "      <td>8360.000000</td>\n",
       "      <td>8360</td>\n",
       "      <td>8360</td>\n",
       "      <td>8360</td>\n",
       "      <td>8360.000000</td>\n",
       "      <td>8360.000000</td>\n",
       "      <td>8360.000000</td>\n",
       "      <td>8360.000000</td>\n",
       "    </tr>\n",
       "    <tr>\n",
       "      <th>mean</th>\n",
       "      <td>14.434450</td>\n",
       "      <td>0.868767</td>\n",
       "      <td>0.311603</td>\n",
       "      <td>12.624246</td>\n",
       "      <td>0.002392</td>\n",
       "      <td>0.067943</td>\n",
       "      <td>0.028349</td>\n",
       "      <td>0</td>\n",
       "      <td>0</td>\n",
       "      <td>0</td>\n",
       "      <td>-328.843828</td>\n",
       "      <td>3.935012</td>\n",
       "      <td>58.547847</td>\n",
       "      <td>8.013995</td>\n",
       "    </tr>\n",
       "    <tr>\n",
       "      <th>std</th>\n",
       "      <td>20.332292</td>\n",
       "      <td>0.190436</td>\n",
       "      <td>0.532166</td>\n",
       "      <td>10.176818</td>\n",
       "      <td>0.048856</td>\n",
       "      <td>0.251662</td>\n",
       "      <td>0.165979</td>\n",
       "      <td>0</td>\n",
       "      <td>0</td>\n",
       "      <td>0</td>\n",
       "      <td>1806.893222</td>\n",
       "      <td>11.124053</td>\n",
       "      <td>19.090252</td>\n",
       "      <td>6.013627</td>\n",
       "    </tr>\n",
       "    <tr>\n",
       "      <th>min</th>\n",
       "      <td>1.000000</td>\n",
       "      <td>0.000000</td>\n",
       "      <td>0.000000</td>\n",
       "      <td>-18.300000</td>\n",
       "      <td>0.000000</td>\n",
       "      <td>0.000000</td>\n",
       "      <td>0.000000</td>\n",
       "      <td>0</td>\n",
       "      <td>0</td>\n",
       "      <td>0</td>\n",
       "      <td>-9999.000000</td>\n",
       "      <td>-28.300000</td>\n",
       "      <td>11.000000</td>\n",
       "      <td>0.000000</td>\n",
       "    </tr>\n",
       "    <tr>\n",
       "      <th>25%</th>\n",
       "      <td>3.000000</td>\n",
       "      <td>0.818182</td>\n",
       "      <td>0.000000</td>\n",
       "      <td>4.400000</td>\n",
       "      <td>0.000000</td>\n",
       "      <td>0.000000</td>\n",
       "      <td>0.000000</td>\n",
       "      <td>0</td>\n",
       "      <td>0</td>\n",
       "      <td>0</td>\n",
       "      <td>9.000000</td>\n",
       "      <td>-3.900000</td>\n",
       "      <td>43.000000</td>\n",
       "      <td>5.600000</td>\n",
       "    </tr>\n",
       "    <tr>\n",
       "      <th>50%</th>\n",
       "      <td>7.000000</td>\n",
       "      <td>0.923077</td>\n",
       "      <td>0.000000</td>\n",
       "      <td>13.000000</td>\n",
       "      <td>0.000000</td>\n",
       "      <td>0.000000</td>\n",
       "      <td>0.000000</td>\n",
       "      <td>0</td>\n",
       "      <td>0</td>\n",
       "      <td>0</td>\n",
       "      <td>10.000000</td>\n",
       "      <td>5.000000</td>\n",
       "      <td>57.000000</td>\n",
       "      <td>7.400000</td>\n",
       "    </tr>\n",
       "    <tr>\n",
       "      <th>75%</th>\n",
       "      <td>16.000000</td>\n",
       "      <td>1.000000</td>\n",
       "      <td>1.000000</td>\n",
       "      <td>21.100000</td>\n",
       "      <td>0.000000</td>\n",
       "      <td>0.000000</td>\n",
       "      <td>0.000000</td>\n",
       "      <td>0</td>\n",
       "      <td>0</td>\n",
       "      <td>0</td>\n",
       "      <td>10.000000</td>\n",
       "      <td>13.300000</td>\n",
       "      <td>75.000000</td>\n",
       "      <td>11.100000</td>\n",
       "    </tr>\n",
       "    <tr>\n",
       "      <th>max</th>\n",
       "      <td>154.000000</td>\n",
       "      <td>1.000000</td>\n",
       "      <td>2.000000</td>\n",
       "      <td>35.600000</td>\n",
       "      <td>1.000000</td>\n",
       "      <td>1.000000</td>\n",
       "      <td>1.000000</td>\n",
       "      <td>0</td>\n",
       "      <td>0</td>\n",
       "      <td>0</td>\n",
       "      <td>10.000000</td>\n",
       "      <td>23.300000</td>\n",
       "      <td>100.000000</td>\n",
       "      <td>37.000000</td>\n",
       "    </tr>\n",
       "  </tbody>\n",
       "</table>\n",
       "</div>"
      ],
      "text/plain": [
       "            bikeid  male_to_female_ratio     day_type         temp  \\\n",
       "count  8360.000000           8360.000000  8360.000000  8360.000000   \n",
       "mean     14.434450              0.868767     0.311603    12.624246   \n",
       "std      20.332292              0.190436     0.532166    10.176818   \n",
       "min       1.000000              0.000000     0.000000   -18.300000   \n",
       "25%       3.000000              0.818182     0.000000     4.400000   \n",
       "50%       7.000000              0.923077     0.000000    13.000000   \n",
       "75%      16.000000              1.000000     1.000000    21.100000   \n",
       "max     154.000000              1.000000     2.000000    35.600000   \n",
       "\n",
       "               fog         rain         snow  hail  thunder  tornado  \\\n",
       "count  8360.000000  8360.000000  8360.000000  8360     8360     8360   \n",
       "mean      0.002392     0.067943     0.028349     0        0        0   \n",
       "std       0.048856     0.251662     0.165979     0        0        0   \n",
       "min       0.000000     0.000000     0.000000     0        0        0   \n",
       "25%       0.000000     0.000000     0.000000     0        0        0   \n",
       "50%       0.000000     0.000000     0.000000     0        0        0   \n",
       "75%       0.000000     0.000000     0.000000     0        0        0   \n",
       "max       1.000000     1.000000     1.000000     0        0        0   \n",
       "\n",
       "              visi       dewptm     humidity   wind_speed  \n",
       "count  8360.000000  8360.000000  8360.000000  8360.000000  \n",
       "mean   -328.843828     3.935012    58.547847     8.013995  \n",
       "std    1806.893222    11.124053    19.090252     6.013627  \n",
       "min   -9999.000000   -28.300000    11.000000     0.000000  \n",
       "25%       9.000000    -3.900000    43.000000     5.600000  \n",
       "50%      10.000000     5.000000    57.000000     7.400000  \n",
       "75%      10.000000    13.300000    75.000000    11.100000  \n",
       "max      10.000000    23.300000   100.000000    37.000000  "
      ]
     },
     "execution_count": 187,
     "metadata": {},
     "output_type": "execute_result"
    }
   ],
   "source": [
    "final_df.describe()\n",
    "# plt.bar(final_df.date, final_df.bikeid)\n",
    "# final_df.isna()"
   ]
  },
  {
   "cell_type": "code",
   "execution_count": 198,
   "metadata": {
    "collapsed": false
   },
   "outputs": [
    {
     "name": "stdout",
     "output_type": "stream",
     "text": [
      "['male_to_female_ratio', 'day_type', 'temp', 'fog', 'rain', 'snow', 'hail', 'thunder', 'tornado', 'visi', 'dewptm', 'humidity', 'wind_speed']\n"
     ]
    }
   ],
   "source": [
    "# # LabelEncoder for the dtstartdatehour column\n",
    "# le = preprocessing.LabelEncoder()\n",
    "# le.fit(final_df.dtstartdatehour)\n",
    "# final_df['startdatehour'] = le.transform(final_df.dtstartdatehour)\n",
    "# # LabelEncoder ends\n",
    "\n",
    "cols = [col for col in final_df.columns if col not in ['bikeid', 'startdatehour', 'date']]\n",
    "\n",
    "x = final_df[cols]\n",
    "# y = final_df.bikeid\n",
    "y = final_df.bikeid.apply(lambda x: math.log(x+1))\n",
    "\n",
    "X_train, X_test, y_train, y_test = cross_validation.train_test_split(x, y, random_state = 1)\n",
    "print cols"
   ]
  },
  {
   "cell_type": "code",
   "execution_count": 199,
   "metadata": {
    "collapsed": false
   },
   "outputs": [
    {
     "name": "stdout",
     "output_type": "stream",
     "text": [
      "MSE:  0.903065880439\n",
      "R2 score:  0.166941843794\n"
     ]
    }
   ],
   "source": [
    "###\n",
    "# Linear regression\n",
    "###\n",
    "regr = linear_model.LinearRegression()\n",
    "regr.fit(X_train, y_train)\n",
    "pred = regr.predict(X_test)\n",
    "rmse = metrics.mean_squared_error(y_test, pred)\n",
    "r2_score = metrics.r2_score(y_test, pred)\n",
    "\n",
    "print 'MSE: ', rmse\n",
    "print 'R2 score: ', r2_score"
   ]
  },
  {
   "cell_type": "code",
   "execution_count": 200,
   "metadata": {
    "collapsed": false
   },
   "outputs": [
    {
     "name": "stdout",
     "output_type": "stream",
     "text": [
      "MSE (RidgeCV):  0.903050798594\n",
      "R2 Score (RidgeCV):  0.16695575646\n"
     ]
    }
   ],
   "source": [
    "###\n",
    "# Ridge regression\n",
    "###\n",
    "ridge = linear_model.RidgeCV(alphas=[0.0001, 0.001, 0.1, 1.0, 10.0, 100.0, 1000.0], \n",
    "                             normalize=True, scoring='mean_squared_error')\n",
    "ridge.fit(X_train, y_train)\n",
    "ridge_pred = ridge.predict(X_test)\n",
    "print 'MSE (RidgeCV): ', metrics.mean_squared_error(y_test, ridge_pred)\n",
    "ridge_r2_score = metrics.r2_score(y_test, ridge_pred)\n",
    "print 'R2 Score (RidgeCV): ', ridge_r2_score"
   ]
  },
  {
   "cell_type": "code",
   "execution_count": 201,
   "metadata": {
    "collapsed": false
   },
   "outputs": [
    {
     "name": "stdout",
     "output_type": "stream",
     "text": [
      "MSE (Lasso):  0.903945033054\n",
      "R2 Score (Lasso):  0.166130845092\n",
      "male_to_female_ratio 0.367341395203\n",
      "day_type -0.586771835207\n",
      "temp 0.0253637747648\n",
      "fog 0.179824580065\n",
      "rain -0.00147431039377\n",
      "snow -0.0250568599688\n",
      "hail 0.0\n",
      "thunder 0.0\n",
      "tornado 0.0\n",
      "visi -2.32991525372e-05\n",
      "dewptm 0.0\n",
      "humidity -0.00195945263378\n",
      "wind_speed 0.00156330163937\n"
     ]
    }
   ],
   "source": [
    "###\n",
    "# Lasso regression\n",
    "###\n",
    "lasso = linear_model.Lasso(alpha = 0.00009, normalize=True)\n",
    "lasso.fit(X_train, y_train)\n",
    "lasso_pred = lasso.predict(X_test)\n",
    "print 'MSE (Lasso): ', metrics.mean_squared_error(y_test, lasso_pred)\n",
    "lasso_r2_score = metrics.r2_score(y_test, lasso_pred)\n",
    "print 'R2 Score (Lasso): ', lasso_r2_score\n",
    "for i, item in enumerate(lasso.coef_):\n",
    "    print cols[i], item"
   ]
  },
  {
   "cell_type": "code",
   "execution_count": 202,
   "metadata": {
    "collapsed": true
   },
   "outputs": [],
   "source": [
    "# Based on the results above, we find that some of the coefficients are 0 and some are negative.\n",
    "# We'll keep only the positive ones\n",
    "\n",
    "rf_cols = [col for col in final_df.columns if col not in ['bikeid', 'startdatehour', 'date', 'visi', 'snow',\n",
    "                                                          'hail', 'thunder', 'tornado', 'humidity', 'dewptm', 'wind_speed']]\n",
    "\n",
    "rf_x = final_df[rf_cols]\n",
    "rf_X_train, rf_X_test, rf_y_train, rf_y_test = cross_validation.train_test_split(rf_x, y, random_state = 1)"
   ]
  },
  {
   "cell_type": "code",
   "execution_count": 203,
   "metadata": {
    "collapsed": false
   },
   "outputs": [
    {
     "name": "stdout",
     "output_type": "stream",
     "text": [
      "MSE (Random Forest):  0.338526415615\n",
      "R2 Score (Random Forest):  0.687716923285\n"
     ]
    }
   ],
   "source": [
    "###\n",
    "# Random Forest regression\n",
    "###\n",
    "rfr = ensemble.RandomForestRegressor(n_estimators=50, bootstrap=True)\n",
    "rfr.fit(rf_X_train, rf_y_train)\n",
    "rf_pred = rfr.predict(rf_X_test)\n",
    "print 'MSE (Random Forest): ', metrics.mean_squared_error(rf_y_test, rf_pred)\n",
    "rf_r2_score = metrics.r2_score(rf_y_test, rf_pred)\n",
    "print 'R2 Score (Random Forest): ', rf_r2_score"
   ]
  },
  {
   "cell_type": "code",
   "execution_count": null,
   "metadata": {
    "collapsed": true
   },
   "outputs": [],
   "source": []
  }
 ],
 "metadata": {
  "kernelspec": {
   "display_name": "Python 2",
   "language": "python",
   "name": "python2"
  },
  "language_info": {
   "codemirror_mode": {
    "name": "ipython",
    "version": 2
   },
   "file_extension": ".py",
   "mimetype": "text/x-python",
   "name": "python",
   "nbconvert_exporter": "python",
   "pygments_lexer": "ipython2",
   "version": "2.7.11"
  }
 },
 "nbformat": 4,
 "nbformat_minor": 0
}
